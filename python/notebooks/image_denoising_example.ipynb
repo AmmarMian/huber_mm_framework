{
 "cells": [
  {
   "cell_type": "markdown",
   "metadata": {},
   "source": [
    "# Image denoising example (not working yet)"
   ]
  },
  {
   "cell_type": "code",
   "execution_count": null,
   "metadata": {},
   "outputs": [],
   "source": [
    "# %matplotlib qt\n",
    "# from matplotlib import rc\n",
    "# rc('font',**{'family':'sans-serif','sans-serif':['Helvetica']})\n",
    "# rc('text', usetex=True)"
   ]
  },
  {
   "cell_type": "code",
   "execution_count": null,
   "metadata": {},
   "outputs": [],
   "source": [
    "import sys\n",
    "sys.path.append(\"../\")\n",
    "import numpy as np\n",
    "from matplotlib import pyplot as plt\n",
    "from tqdm import tqdm, trange\n",
    "from joblib import Parallel, delayed\n",
    "from skimage.color import rgb2gray\n",
    "from skimage.util import random_noise\n",
    "from mmhuber.mmalgorithm import hubniht"
   ]
  },
  {
   "cell_type": "code",
   "execution_count": null,
   "metadata": {},
   "outputs": [],
   "source": [
    "# Reading data\n",
    "I = plt.imread('../data/lena_std.tif')\n",
    "I = rgb2gray(I)\n",
    "I = I[::2,::2]\n",
    "\n",
    "# Adding noise\n",
    "I_noisy = random_noise(I, 's&p', amount=0.05)\n",
    "\n",
    "fig, axes = plt.subplots(nrows=1, ncols=2, figsize=(9, 6))\n",
    "axes[0].imshow(I, cmap='gray')\n",
    "axes[0].title.set_text('Original image')\n",
    "axes[0].axis('off')\n",
    "axes[1].imshow(I_noisy, cmap='gray')\n",
    "axes[1].title.set_text('Noisy image')\n",
    "axes[1].axis('off')"
   ]
  },
  {
   "cell_type": "code",
   "execution_count": null,
   "metadata": {},
   "outputs": [],
   "source": [
    "# Simulation parameters\n",
    "blocksize = 8 # Do not change as it depends on the dictionary which is generated using matlab\n",
    "K = 2 # Sparsity value\n",
    "c = 1.345 # Huber's constant\n",
    "\n",
    "# Loading dictionary\n",
    "X = np.load('../data/dictionary.npy')"
   ]
  },
  {
   "cell_type": "code",
   "execution_count": null,
   "metadata": {},
   "outputs": [],
   "source": [
    "# Function to iterate over a slice of image to compute the denoising\n",
    "def iterate_image_denoising(image_slice, m_r, m_c, c, K , X):\n",
    "    n_r, n_c = image_slice.shape\n",
    "    denoised_image = np.zeros((n_r, n_c))\n",
    "    for i_r in trange(0, n_r-m_r+1): # Iterating rows\n",
    "        for i_c in range(0, n_c-m_c+1): # Iterating columns\n",
    "            # Obtaining local data\n",
    "            y = image_slice[i_r:i_r+m_r, i_c:i_c+m_c].reshape((m_r*m_c,1))\n",
    "\n",
    "            # Do denoising\n",
    "            beta, sigma, support = hubniht(y, X, c, K, check_decreasing=True)\n",
    "            y_hat = X@beta\n",
    "            y_hat = y_hat.reshape((m_r, m_c))\n",
    "            denoised_image[i_r:i_r+m_r, i_c:i_c+m_c] = y_hat\n",
    "\n",
    "    return denoised_image\n",
    "\n",
    "I_denoised = iterate_image_denoising(I_noisy, blocksize, blocksize, c, K , X)"
   ]
  },
  {
   "cell_type": "code",
   "execution_count": null,
   "metadata": {},
   "outputs": [],
   "source": [
    "plt.figure()\n",
    "plt.imshow(I_denoised, cmap='gray')\n",
    "plt.axis('off')"
   ]
  },
  {
   "cell_type": "code",
   "execution_count": null,
   "metadata": {
    "tags": [
     "outputPrepend",
     "outputPrepend",
     "outputPrepend",
     "outputPrepend",
     "outputPrepend",
     "outputPrepend",
     "outputPrepend",
     "outputPrepend",
     "outputPrepend",
     "outputPrepend",
     "outputPrepend",
     "outputPrepend",
     "outputPrepend",
     "outputPrepend",
     "outputPrepend",
     "outputPrepend",
     "outputPrepend"
    ]
   },
   "outputs": [],
   "source": [
    "# # Parallel version still in work...\n",
    "\n",
    "# # Splitting the image in several small to use parallel processing \n",
    "# # (choose so that the splitting is even and the size of each slice is a multiple of the blocksize)\n",
    "# number_of_threads_columns = 4\n",
    "# number_of_threads_rows = 2\n",
    "# image_slices_list = []\n",
    "# slice_rows_list = np.array_split(I_noisy, number_of_threads_rows, axis=0)\n",
    "# for image_slice_row in slice_rows_list:\n",
    "#     image_slices_list.append( np.array_split(image_slice_row, number_of_threads_columns, axis=1)  )\n",
    "\n",
    "# # Visualize the slices\n",
    "# fig, axes = plt.subplots(nrows=number_of_threads_rows, ncols=number_of_threads_columns, figsize=(6, 6))\n",
    "# for i in range(number_of_threads_rows):\n",
    "#     for j in range(number_of_threads_columns):\n",
    "#         axes[i,j].imshow(image_slices_list[i][j], cmap='gray')\n",
    "#         axes[i,j].axis('off')\n",
    "\n",
    "\n",
    "# # Computing the denoising for each slice in parallel\n",
    "# results_list = Parallel(n_jobs=number_of_threads_columns*number_of_threads_rows)(\n",
    "#                     delayed(iterate_image_denoising)(image_slices_list[i][j], blocksize, blocksize, c, K, X) \n",
    "#                     for i in range(number_of_threads_rows) \n",
    "#                     for j in range(number_of_threads_columns))\n",
    "\n",
    "# # Putting back the image together from the slices\n",
    "# I_denoised = []\n",
    "# for i in range(number_of_threads_rows):\n",
    "#     I_denoised.append(np.hstack(results_list[i*number_of_threads_columns:(i+1)*number_of_threads_columns]))\n",
    "# I_denoised = np.vstack(I_denoised)"
   ]
  },
  {
   "cell_type": "code",
   "execution_count": null,
   "metadata": {},
   "outputs": [],
   "source": [
    "# plt.figure()\n",
    "# plt.imshow(I_denoised, cmap='gray')\n",
    "# plt.axis('off')"
   ]
  },
  {
   "cell_type": "code",
   "execution_count": null,
   "metadata": {},
   "outputs": [],
   "source": []
  }
 ],
 "metadata": {
  "language_info": {
   "codemirror_mode": {
    "name": "ipython",
    "version": 3
   },
   "file_extension": ".py",
   "mimetype": "text/x-python",
   "name": "python",
   "nbconvert_exporter": "python",
   "pygments_lexer": "ipython3",
   "version": "3.7.6-final"
  },
  "orig_nbformat": 2,
  "kernelspec": {
   "name": "python3",
   "display_name": "Python 3"
  }
 },
 "nbformat": 4,
 "nbformat_minor": 2
}