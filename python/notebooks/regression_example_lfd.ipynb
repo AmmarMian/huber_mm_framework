{
 "cells": [
  {
   "cell_type": "markdown",
   "metadata": {},
   "source": [
    "# Regression example"
   ]
  },
  {
   "cell_type": "code",
   "execution_count": 32,
   "metadata": {},
   "outputs": [],
   "source": [
    "%matplotlib qt\n",
    "from matplotlib import rc\n",
    "rc('font',**{'family':'sans-serif','sans-serif':['Helvetica']})\n",
    "rc('text', usetex=True)"
   ]
  },
  {
   "cell_type": "code",
   "execution_count": 33,
   "metadata": {},
   "outputs": [],
   "source": [
    "import sys\n",
    "sys.path.append(\"../\")\n",
    "import numpy as np\n",
    "from matplotlib import pyplot as plt\n",
    "from sklearn.linear_model import HuberRegressor\n",
    "from mmhuber.regression_model import generate_samples\n",
    "from mmhuber.mmalgorithm import hubreg\n",
    "from mmhuber.least_squares import estimate_beta_sigma"
   ]
  },
  {
   "cell_type": "code",
   "execution_count": 34,
   "metadata": {},
   "outputs": [],
   "source": [
    "# Setting the simulation parameters\n",
    "n_samples = 500\n",
    "n_features = 50\n",
    "\n",
    "c = 1.1\n",
    "sigma = 10"
   ]
  },
  {
   "cell_type": "code",
   "execution_count": 35,
   "metadata": {},
   "outputs": [],
   "source": [
    "# Generating data\n",
    "y, X, beta, sigma = generate_samples(n_samples, n_features, c, sigma, noise='lfd', random_state=None)"
   ]
  },
  {
   "cell_type": "code",
   "execution_count": 36,
   "metadata": {},
   "outputs": [],
   "source": [
    "# LS estimate\n",
    "beta_ls, sigma_ls = estimate_beta_sigma(X, y)"
   ]
  },
  {
   "cell_type": "code",
   "execution_count": 37,
   "metadata": {},
   "outputs": [
    {
     "output_type": "stream",
     "name": "stderr",
     "text": "1%|          | 11/1000 [00:00<00:09, 107.08it/s]\n"
    }
   ],
   "source": [
    "# Huber estimate\n",
    "estimates_list, L = hubreg(y, X, c, beta_0=None, sigma_0=None, mu='optimal', lbda='optimal',\n",
    "                        check_decreasing=True, n_iter=1000, return_all=True, pbar=True,\n",
    "                        epsilon=1e-5)\n",
    "beta_hub, sigma_hub = estimates_list[-1]"
   ]
  },
  {
   "cell_type": "code",
   "execution_count": 38,
   "metadata": {},
   "outputs": [],
   "source": [
    "# sklearn HuberRegressor   \n",
    "huber = HuberRegressor(epsilon=c).fit(X, y)\n",
    "beta_hub_sklearn = huber.coef_\n",
    "sigma_hub_sklearn = huber.scale_"
   ]
  },
  {
   "cell_type": "code",
   "execution_count": 39,
   "metadata": {},
   "outputs": [
    {
     "output_type": "stream",
     "name": "stdout",
     "text": "Scores for beta:\nLeast squares: 0.011760320791690827\nHuber sklearn implementation: 0.011866040417594844\nHuber MM-implementation: 0.011548072758916658\n"
    }
   ],
   "source": [
    "print(\"Scores for beta:\")\n",
    "print(f\"Least squares: {np.linalg.norm(beta - np.squeeze(beta_ls))/np.linalg.norm(beta)}\")\n",
    "print(f\"Huber sklearn implementation: {np.linalg.norm(beta - np.squeeze(beta_hub_sklearn))/np.linalg.norm(beta)}\")\n",
    "print(f\"Huber MM-implementation: {np.linalg.norm(beta - np.squeeze(beta_hub))/np.linalg.norm(beta)}\")"
   ]
  },
  {
   "cell_type": "code",
   "execution_count": 40,
   "metadata": {},
   "outputs": [
    {
     "output_type": "stream",
     "name": "stdout",
     "text": "Scores for sigma:\nLeast squares: 0.34487147312163025\nHuber sklearn implementation: 0.7975320972409339\nHuber MM-implementation: 0.19518777927456962\n"
    }
   ],
   "source": [
    "print(\"Scores for sigma:\")\n",
    "print(f\"Least squares: {np.linalg.norm(sigma - np.squeeze(sigma_ls))/np.linalg.norm(sigma)}\")\n",
    "print(f\"Huber sklearn implementation: {np.linalg.norm(sigma - np.squeeze(sigma_hub_sklearn))/np.linalg.norm(sigma)}\")\n",
    "print(f\"Huber MM-implementation: {np.linalg.norm(sigma - np.squeeze(sigma_hub))/np.linalg.norm(sigma)}\")"
   ]
  },
  {
   "cell_type": "code",
   "execution_count": 42,
   "metadata": {},
   "outputs": [
    {
     "output_type": "execute_result",
     "data": {
      "text/plain": "Text(0, 0.5, '$L$')"
     },
     "metadata": {},
     "execution_count": 42
    }
   ],
   "source": [
    "plt.figure()\n",
    "plt.semilogy(np.arange(0,len(L)), L, marker='o')\n",
    "plt.xlabel('$n_{iter}$')\n",
    "plt.ylabel('$L$')"
   ]
  },
  {
   "cell_type": "code",
   "execution_count": null,
   "metadata": {},
   "outputs": [],
   "source": []
  }
 ],
 "metadata": {
  "language_info": {
   "name": "python",
   "codemirror_mode": {
    "name": "ipython",
    "version": 3
   },
   "version": "3.7.6-final"
  },
  "orig_nbformat": 2,
  "file_extension": ".py",
  "mimetype": "text/x-python",
  "name": "python",
  "npconvert_exporter": "python",
  "pygments_lexer": "ipython3",
  "version": 3,
  "kernelspec": {
   "name": "python3",
   "display_name": "Python 3"
  }
 },
 "nbformat": 4,
 "nbformat_minor": 2
}