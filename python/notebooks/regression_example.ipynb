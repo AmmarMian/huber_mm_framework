{
 "cells": [
  {
   "cell_type": "markdown",
   "metadata": {},
   "source": [
    "# Regression example with Huber's Least favourable distribution"
   ]
  },
  {
   "cell_type": "code",
   "execution_count": 1,
   "metadata": {},
   "outputs": [],
   "source": [
    "%matplotlib qt\n",
    "from matplotlib import rc\n",
    "rc('font',**{'family':'sans-serif','sans-serif':['Helvetica']})\n",
    "rc('text', usetex=True)"
   ]
  },
  {
   "cell_type": "code",
   "execution_count": 2,
   "metadata": {},
   "outputs": [],
   "source": [
    "import sys\n",
    "sys.path.append(\"../\")\n",
    "import numpy as np\n",
    "from matplotlib import pyplot as plt\n",
    "from tqdm import tqdm\n",
    "from mmhuber.regression_model import generate_samples\n",
    "from mmhuber.mmalgorithm import hubreg\n",
    "from mmhuber.least_squares import estimate_beta_sigma\n",
    "from sklearn.linear_model import HuberRegressor"
   ]
  },
  {
   "cell_type": "code",
   "execution_count": 3,
   "metadata": {},
   "outputs": [],
   "source": [
    "# Setting the simulation parameters\n",
    "n_samples = 100\n",
    "n_features = 5\n",
    "n_trials = 48\n",
    "c_vec = np.linspace(1.01, 1.99, 5)\n",
    "sigma = 10"
   ]
  },
  {
   "cell_type": "code",
   "execution_count": 4,
   "metadata": {},
   "outputs": [
    {
     "output_type": "stream",
     "name": "stderr",
     "text": "100%|██████████| 5/5 [12:48<00:00, 153.74s/it]\n"
    }
   ],
   "source": [
    "error_beta_ls = []\n",
    "error_sigma_ls = []\n",
    "error_beta_mm_huber = []\n",
    "error_sigma_mm_huber = []\n",
    "error_beta_sklearn_huber = []\n",
    "error_sigma_sklearn_huber = []\n",
    "for c in tqdm(c_vec):\n",
    "\n",
    "    error_beta_ls_temp = 0\n",
    "    error_sigma_ls_temp = 0\n",
    "    error_beta_mm_huber_temp = 0\n",
    "    error_sigma_mm_huber_temp = 0\n",
    "    error_beta_sklearn_huber_temp = 0\n",
    "    error_sigma_sklearn_huber_temp = 0\n",
    "    for trial in range(n_trials):\n",
    "        # Generating data\n",
    "        y, X, beta, sigma = generate_samples(n_samples, n_features, c, sigma, noise='lfd', random_state=None)\n",
    "\n",
    "        # LS estimate\n",
    "        beta_estimate, sigma_estimate = estimate_beta_sigma(X, y)\n",
    "        error_beta_ls_temp += np.linalg.norm(beta - beta_estimate, ord=2) / np.linalg.norm(beta, ord=2) \n",
    "        error_sigma_ls_temp += (sigma_estimate - sigma)**2 / (sigma**2) \n",
    "\n",
    "        # MM-huber estimate\n",
    "        beta_estimate, sigma_estimate = hubreg(y, X, c, beta_0='LS', sigma_0='LS', mu='optimal', lbda='optimal', \n",
    "                             check_decreasing=False, n_iter=100, pbar=False,\n",
    "                             epsilon=1e-5)\n",
    "        error_beta_mm_huber_temp += np.linalg.norm(beta - beta_estimate, ord=2) / np.linalg.norm(beta, ord=2) \n",
    "        error_sigma_mm_huber_temp += (sigma_estimate - sigma)**2 / (sigma**2)\n",
    "\n",
    "        # Sklearn huber\n",
    "        huber = HuberRegressor(epsilon=c).fit(X, y)\n",
    "        beta_estimate = huber.coef_\n",
    "        sigma_estimate = huber.scale_\n",
    "        error_beta_sklearn_huber_temp += np.linalg.norm(beta - beta_estimate, ord=2) / np.linalg.norm(beta, ord=2) \n",
    "        error_sigma_sklearn_huber_temp += (sigma_estimate - sigma)**2 / (sigma**2)\n",
    "\n",
    "\n",
    "    error_beta_ls.append( error_beta_ls_temp / n_trials )\n",
    "    error_sigma_ls.append( error_sigma_ls_temp / n_trials )\n",
    "    error_beta_mm_huber.append( error_beta_mm_huber_temp / n_trials )\n",
    "    error_sigma_mm_huber.append( error_sigma_mm_huber_temp / n_trials )\n",
    "    error_beta_sklearn_huber.append( error_beta_sklearn_huber_temp / n_trials )\n",
    "    error_sigma_sklearn_huber.append( error_sigma_sklearn_huber_temp / n_trials )\n",
    "\n"
   ]
  },
  {
   "cell_type": "code",
   "execution_count": 11,
   "metadata": {},
   "outputs": [
    {
     "output_type": "execute_result",
     "data": {
      "text/plain": "Text(0, 0.5, '$\\\\| \\\\hat{\\\\beta} - \\\\beta \\\\|^2_2/\\\\| \\\\beta \\\\|^2_2$')"
     },
     "metadata": {},
     "execution_count": 11
    }
   ],
   "source": [
    "plt.figure(figsize=(8,4))\n",
    "plt.loglog(c_vec, error_beta_ls, marker='o', label='LS')\n",
    "plt.loglog(c_vec, error_beta_mm_huber, marker='s', label='MM-Huber')\n",
    "plt.loglog(c_vec, error_beta_sklearn_huber, marker='d', label='Sklearn-Huber')\n",
    "plt.legend()\n",
    "plt.xlabel('$c$')\n",
    "plt.ylabel('$\\| \\hat{\\\\beta} - \\\\beta \\|^2_2/\\| \\\\beta \\|^2_2$')"
   ]
  },
  {
   "cell_type": "code",
   "execution_count": 7,
   "metadata": {},
   "outputs": [
    {
     "output_type": "execute_result",
     "data": {
      "text/plain": "Text(0, 0.5, '$( \\\\hat{\\\\sigma} - \\\\sigma )^2/(\\\\sigma )^2$')"
     },
     "metadata": {},
     "execution_count": 7
    }
   ],
   "source": [
    "plt.figure(figsize=(8,4))\n",
    "plt.loglog(c_vec, error_sigma_ls, marker='o', label='LS')\n",
    "plt.loglog(c_vec, error_sigma_mm_huber, marker='s', label='MM-Huber')\n",
    "plt.loglog(c_vec, error_sigma_sklearn_huber, marker='d', label='Sklearn-Huber')\n",
    "plt.legend()\n",
    "plt.xlabel('$c$')\n",
    "plt.ylabel('$( \\hat{\\\\sigma} - \\\\sigma )^2/(\\\\sigma )^2$')"
   ]
  },
  {
   "cell_type": "code",
   "execution_count": null,
   "metadata": {},
   "outputs": [],
   "source": []
  }
 ],
 "metadata": {
  "language_info": {
   "name": "python",
   "codemirror_mode": {
    "name": "ipython",
    "version": 3
   },
   "version": "3.7.6-final"
  },
  "orig_nbformat": 2,
  "file_extension": ".py",
  "mimetype": "text/x-python",
  "name": "python",
  "npconvert_exporter": "python",
  "pygments_lexer": "ipython3",
  "version": 3,
  "kernelspec": {
   "name": "python3",
   "display_name": "Python 3"
  }
 },
 "nbformat": 4,
 "nbformat_minor": 2
}