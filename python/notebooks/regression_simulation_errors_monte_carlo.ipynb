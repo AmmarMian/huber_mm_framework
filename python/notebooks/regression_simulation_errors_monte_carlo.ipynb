{
 "cells": [
  {
   "cell_type": "markdown",
   "metadata": {},
   "source": [
    "# Regression example with erros Monte-Carlo"
   ]
  },
  {
   "cell_type": "code",
   "execution_count": null,
   "metadata": {},
   "outputs": [],
   "source": [
    "%matplotlib qt\n",
    "from matplotlib import rc\n",
    "rc('font',**{'family':'sans-serif','sans-serif':['Helvetica']})\n",
    "rc('text', usetex=True)"
   ]
  },
  {
   "cell_type": "code",
   "execution_count": null,
   "metadata": {},
   "outputs": [],
   "source": [
    "import sys\n",
    "sys.path.append(\"../\")\n",
    "import numpy as np\n",
    "from numpy.linalg import norm\n",
    "from matplotlib import pyplot as plt\n",
    "from tqdm import tqdm\n",
    "from mmhuber.mmalgorithm import hubreg\n",
    "from mmhuber.least_squares import estimate_beta_sigma\n",
    "from sklearn.linear_model import HuberRegressor\n",
    "from sklearn.datasets import make_regression"
   ]
  },
  {
   "cell_type": "code",
   "execution_count": null,
   "metadata": {},
   "outputs": [],
   "source": [
    "# Setting the simulation parameters\n",
    "n_samples = 500\n",
    "n_features = 250\n",
    "n_trials = 240\n",
    "c = 1.345\n",
    "SNR_db = 20\n",
    "sigma = 20\n",
    "err_prob_vec = np.arange(0,0.10,0.01)"
   ]
  },
  {
   "cell_type": "code",
   "execution_count": null,
   "metadata": {},
   "outputs": [],
   "source": [
    "error_beta_ls = []\n",
    "error_sigma_ls = []\n",
    "error_beta_mm_huber = []\n",
    "error_sigma_mm_huber = []\n",
    "error_beta_sklearn_huber = []\n",
    "error_sigma_sklearn_huber = []\n",
    "for err_prob in tqdm(err_prob_vec):\n",
    "\n",
    "    error_beta_ls_temp = 0\n",
    "    error_sigma_ls_temp = 0\n",
    "    error_beta_mm_huber_temp = 0\n",
    "    error_sigma_mm_huber_temp = 0\n",
    "    error_beta_sklearn_huber_temp = 0\n",
    "    error_sigma_sklearn_huber_temp = 0\n",
    "    for trial in range(n_trials):\n",
    "        # Generating data\n",
    "        X, y, beta = make_regression(n_samples=n_samples,    \n",
    "              n_features=n_features, n_informative=n_features, coef=True,  \n",
    "              random_state=trial)\n",
    "        e0 = np.random.randn(n_samples)\n",
    "        # con = (norm(X@beta) / norm(e0))**2\n",
    "        # sigma = np.sqrt(con*10*10**(-SNR_db/10))\n",
    "        y +=  sigma*e0\n",
    "\n",
    "        # Flipping some data to account as errors\n",
    "        if err_prob > 0:\n",
    "            indexes = np.random.binomial(1, err_prob, n_samples)\n",
    "            y[indexes] = -y[indexes]\n",
    "\n",
    "        # LS estimate\n",
    "        beta_estimate, sigma_estimate = estimate_beta_sigma(X, y)\n",
    "        error_beta_ls_temp += norm(beta - beta_estimate, ord=2)**2 / norm(beta, ord=2)**2 \n",
    "        error_sigma_ls_temp += (sigma_estimate)**2 / (sigma**2) \n",
    "\n",
    "        # MM-huber estimate\n",
    "        beta_estimate, sigma_estimate = hubreg(y, X, c, beta_0='LS', sigma_0='LS', mu='optimal', lbda='optimal', \n",
    "                             check_decreasing=True, n_iter=100, pbar=False,\n",
    "                             epsilon=1e-5)\n",
    "        error_beta_mm_huber_temp += norm(beta - beta_estimate, ord=2)**2 / norm(beta, ord=2)**2 \n",
    "        error_sigma_mm_huber_temp += (sigma_estimate)**2 / (sigma**2)\n",
    "\n",
    "        # Sklearn huber\n",
    "        huber = HuberRegressor(epsilon=c).fit(X, y)\n",
    "        beta_estimate = huber.coef_\n",
    "        sigma_estimate = huber.scale_\n",
    "        error_beta_sklearn_huber_temp += norm(beta - beta_estimate, ord=2)**2 / norm(beta, ord=2)**2 \n",
    "        error_sigma_sklearn_huber_temp += (sigma_estimate)**2 / (sigma**2)\n",
    "\n",
    "\n",
    "    error_beta_ls.append( error_beta_ls_temp / n_trials )\n",
    "    error_sigma_ls.append( error_sigma_ls_temp / n_trials )\n",
    "    error_beta_mm_huber.append( error_beta_mm_huber_temp / n_trials )\n",
    "    error_sigma_mm_huber.append( error_sigma_mm_huber_temp / n_trials )\n",
    "    error_beta_sklearn_huber.append( error_beta_sklearn_huber_temp / n_trials )\n",
    "    error_sigma_sklearn_huber.append( error_sigma_sklearn_huber_temp / n_trials )\n",
    "\n"
   ]
  },
  {
   "cell_type": "code",
   "execution_count": null,
   "metadata": {},
   "outputs": [],
   "source": [
    "plt.figure(figsize=(5,4))\n",
    "plt.plot(err_prob_vec, error_beta_ls, marker='o', label='LS')\n",
    "plt.plot(err_prob_vec, error_beta_mm_huber, marker='s', label='MM-Huber')\n",
    "plt.plot(err_prob_vec, error_beta_sklearn_huber, marker='d', label='Sklearn-Huber')\n",
    "plt.legend()\n",
    "plt.xlabel('$\\epsilon$')\n",
    "plt.ylabel('$\\| \\hat{\\\\beta} - \\\\beta \\|^2_2/\\| \\\\beta \\|^2_2$')"
   ]
  },
  {
   "cell_type": "code",
   "execution_count": null,
   "metadata": {},
   "outputs": [],
   "source": [
    "plt.figure(figsize=(5,4))\n",
    "plt.plot(err_prob_vec, np.log10(error_sigma_ls), marker='o', label='LS')\n",
    "plt.plot(err_prob_vec, np.log10(error_sigma_mm_huber), marker='s', label='MM-Huber')\n",
    "plt.plot(err_prob_vec, np.log10(error_sigma_sklearn_huber), marker='d', label='Sklearn-Huber')\n",
    "plt.legend()\n",
    "plt.xlabel('$\\epsilon$')\n",
    "plt.ylabel('$ \\log_{10}^{2}(  \\hat{\\\\sigma}/\\\\sigma  )$')"
   ]
  },
  {
   "cell_type": "code",
   "execution_count": null,
   "metadata": {},
   "outputs": [],
   "source": [
    "X.shape"
   ]
  },
  {
   "cell_type": "code",
   "execution_count": null,
   "metadata": {},
   "outputs": [],
   "source": [
    "y.shape"
   ]
  },
  {
   "cell_type": "code",
   "execution_count": null,
   "metadata": {},
   "outputs": [],
   "source": []
  }
 ],
 "metadata": {
  "language_info": {
   "name": "python",
   "codemirror_mode": {
    "name": "ipython",
    "version": 3
   },
   "version": "3.7.6-final"
  },
  "orig_nbformat": 2,
  "file_extension": ".py",
  "mimetype": "text/x-python",
  "name": "python",
  "npconvert_exporter": "python",
  "pygments_lexer": "ipython3",
  "version": 3,
  "kernelspec": {
   "name": "python3",
   "display_name": "Python 3"
  }
 },
 "nbformat": 4,
 "nbformat_minor": 2
}